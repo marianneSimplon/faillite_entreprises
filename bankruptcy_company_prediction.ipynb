{
 "cells": [
  {
   "cell_type": "markdown",
   "id": "therapeutic-dancing",
   "metadata": {},
   "source": [
    "# Bankruptcy company prediction"
   ]
  },
  {
   "cell_type": "markdown",
   "id": "previous-broadcast",
   "metadata": {},
   "source": [
    "You are a developer at a company that works in the FinTech domain. Your client is an investment firm that wants to detect corporate bankruptcy, allowing them to better understand and manage risk.\n",
    "\n",
    "Your goal is to create a machine learning model to detect the probability of bankruptcy using decision trees and ensemble methods (bagging, boosting and stacking).\n",
    "\n",
    "To do so, you have a dataset with 95 features (X1-X95) and a target. The features represent indicators defined by the commercial regulations of the stock market. Your target is called \"Bankrupt ?\", which has the value 0 if the company has not gone bankrupt, and the value 1 if the company has gone bankrupt.\n",
    "\n",
    "The features are described in the sub-section Attributs."
   ]
  },
  {
   "cell_type": "code",
   "execution_count": null,
   "id": "impaired-scanner",
   "metadata": {},
   "outputs": [],
   "source": [
    "# Import libraries\n"
   ]
  },
  {
   "cell_type": "markdown",
   "id": "severe-bathroom",
   "metadata": {
    "heading_collapsed": true
   },
   "source": [
    "### Attributs"
   ]
  },
  {
   "cell_type": "markdown",
   "id": "identical-nepal",
   "metadata": {
    "hidden": true
   },
   "source": [
    "The first attribute is the class lable.\n",
    "- X1 Cost of Interest-bearing Debt\n",
    "- X2 Cash Reinvestment Ratio\n",
    "- X3 Current Ratio\n",
    "- X4 Acid Test\n",
    "- X5 Interest Expenses/Total Revenue\n",
    "- X6 Total Liability/Equity Ratio\n",
    "- X7 Liability/Total Assets\n",
    "- X8 Interest-bearing Debt/Equity\n",
    "- X9 Contingent Liability/Equity\n",
    "- X10 Operating Income/Capital\n",
    "- X11 Pretax Income/Capital\n",
    "- X12 Working Capital to Total Assets\n",
    "- X13 Quick Assets/Total assets\n",
    "- X14 Current Assets/Total Assets\n",
    "- X15 Cash/Total Assets\n",
    "- X16 Quick Assets/Current Liability\n",
    "- X17 Cash/Current Liability\n",
    "- X18 Current Liability to Assets\n",
    "- X19 Operating Funds to Liability\n",
    "- X20 Inventory/Working Capital\n",
    "- X21 Inventory/Current Liability\n",
    "- X22 Current Liabilities/Liability\n",
    "- X23 Working Capital/Equity\n",
    "- X24 Current Liabilities/Equity\n",
    "- X25 Long-term Liability to Current Assets\n",
    "- X26 Current Liability to Current Assets\n",
    "- X27 One if Total Liability exceeds Total Assets;\n",
    "- X28 Equity to Liability\n",
    "- X29 Equity/Total Assets\n",
    "- X30 (Long-term Liability+Equity)/Fixed Assets\n",
    "- X31 Fixed Assets to Assets\n",
    "- X32 Current Liability to Liability\n",
    "- X33 Current Liability to Equity\n",
    "- X34 Equity to Long-term Liability\n",
    "- X35 Liability to Equity\n",
    "- X36 Degree of Financial Leverage\n",
    "- X37 Interest Coverage Ratio\n",
    "- X38 Operating Expenses/Net Sales\n",
    "- X39 (Research and Development Expenses)/Net Sales\n",
    "- X40 Effective Tax Rate\n",
    "- X41 Book Value Per Share(B)\n",
    "- X42 Book Value Per Share(A)\n",
    "- X43 Book Value Per Share(C)\n",
    "- X44 Cash Flow Per Share\n",
    "- X45 Sales Per Share\n",
    "- X46 Operating Income Per Share\n",
    "- X47 Sales Per Employee\n",
    "- X48 Operation Income Per Employee\n",
    "- X49 Fixed Assets Per Employee\n",
    "- X50 total assets to GNP price\n",
    "- X51 Return On Total Assets(C)\n",
    "- X52 Return On Total Assets(A)\n",
    "- X53 Return On Total Assets(B)\n",
    "- X54 Gross Profit /Net Sales\n",
    "- X55 Realized Gross Profit/Net Sales\n",
    "- X56 Operating Income /Net Sales\n",
    "- X57 Pre-Tax Income/Net Sales\n",
    "- X58 Net Income/Net Sales\n",
    "- X59 Net Non-operating Income Ratio\n",
    "- X60 Net Income-Exclude Disposal Gain or Loss/Net Sales\n",
    "- X61 EPS-Net Income\n",
    "- X62 Pretax Income Per Share\n",
    "- X63 Retained Earnings to Total Assets\n",
    "- X64 Total Income to Total Expenses\n",
    "- X65 Total Expenses to Assets\n",
    "- X66 Net Income to Total Assets\n",
    "- X67 Gross Profit to Sales\n",
    "- X68 Net Income to Stockholder's Equity\n",
    "- X69 One if Net Income is Negative for the Last Two Years; Zero Otherwise\n",
    "- X70 (Inventory +Accounts Receivables) /Equity\n",
    "- X71 Total Asset Turnover\n",
    "- X72 Accounts Receivable Turnover\n",
    "- X73 Days Receivable Outstanding\n",
    "- X74 Inventory Turnover\n",
    "- X75 Fixed Asset Turnover\n",
    "- X76 Equity Turnover\n",
    "- X77 Current Assets to Sales\n",
    "- X78 Quick Assets to Sales\n",
    "- X79 Working Capital to Sales\n",
    "- X80 Cash to Sales\n",
    "- X81 Cash Flow to Sales\n",
    "- X82 No-credit Interval\n",
    "- X83 Cash Flow from Operating/Current Liabilities\n",
    "- X84 Cash Flow to Total Assets\n",
    "- X85 Cash Flow to Liability\n",
    "- X86 CFO to Assets\n",
    "- X87 Cash Flow to Equity\n",
    "- X88 Realized Gross Profit Growth Rate\n",
    "- X89 Operating Income Growth\n",
    "- X90 Net Income Growth\n",
    "- X91 Continuing Operating Income after Tax Growth\n",
    "- X92 Net Income-Excluding Disposal Gain or Loss Growth\n",
    "- X93 Total Asset Growth\n",
    "- X94 Total Equity Growth\n",
    "- X95 Return on Total Asset Growth"
   ]
  },
  {
   "cell_type": "markdown",
   "id": "nervous-customer",
   "metadata": {},
   "source": [
    "### export data"
   ]
  },
  {
   "cell_type": "code",
   "execution_count": null,
   "id": "blond-pearl",
   "metadata": {},
   "outputs": [],
   "source": [
    "# charge the dataset\n"
   ]
  },
  {
   "cell_type": "markdown",
   "id": "outer-demand",
   "metadata": {},
   "source": [
    "# Your turn !!"
   ]
  },
  {
   "cell_type": "code",
   "execution_count": null,
   "id": "decent-colon",
   "metadata": {},
   "outputs": [],
   "source": []
  }
 ],
 "metadata": {
  "kernelspec": {
   "display_name": "Python 3",
   "language": "python",
   "name": "python3"
  },
  "language_info": {
   "codemirror_mode": {
    "name": "ipython",
    "version": 3
   },
   "file_extension": ".py",
   "mimetype": "text/x-python",
   "name": "python",
   "nbconvert_exporter": "python",
   "pygments_lexer": "ipython3",
   "version": "3.8.8"
  },
  "toc": {
   "base_numbering": 1,
   "nav_menu": {},
   "number_sections": true,
   "sideBar": true,
   "skip_h1_title": false,
   "title_cell": "Table of Contents",
   "title_sidebar": "Contents",
   "toc_cell": false,
   "toc_position": {},
   "toc_section_display": true,
   "toc_window_display": false
  },
  "varInspector": {
   "cols": {
    "lenName": 16,
    "lenType": 16,
    "lenVar": 40
   },
   "kernels_config": {
    "python": {
     "delete_cmd_postfix": "",
     "delete_cmd_prefix": "del ",
     "library": "var_list.py",
     "varRefreshCmd": "print(var_dic_list())"
    },
    "r": {
     "delete_cmd_postfix": ") ",
     "delete_cmd_prefix": "rm(",
     "library": "var_list.r",
     "varRefreshCmd": "cat(var_dic_list()) "
    }
   },
   "types_to_exclude": [
    "module",
    "function",
    "builtin_function_or_method",
    "instance",
    "_Feature"
   ],
   "window_display": false
  }
 },
 "nbformat": 4,
 "nbformat_minor": 5
}
