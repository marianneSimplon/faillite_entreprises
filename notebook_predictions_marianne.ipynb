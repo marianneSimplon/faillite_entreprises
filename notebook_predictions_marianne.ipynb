{
 "cells": [
  {
   "cell_type": "code",
   "execution_count": 2,
   "id": "33c4d778",
   "metadata": {},
   "outputs": [],
   "source": [
    "import pandas as pd\n",
    "import pickle"
   ]
  },
  {
   "cell_type": "code",
   "execution_count": null,
   "id": "1a47ae6b",
   "metadata": {},
   "outputs": [],
   "source": [
    "data = pd.read_csv(r'data/bankrupt_dataset.csv',delimiter=',', decimal='.')"
   ]
  },
  {
   "cell_type": "code",
   "execution_count": null,
   "id": "3faf3192",
   "metadata": {},
   "outputs": [],
   "source": [
    "my_model = pickle.load(open(\"model.pkl\",\"rb\"))"
   ]
  },
  {
   "cell_type": "code",
   "execution_count": null,
   "id": "8d924607",
   "metadata": {},
   "outputs": [],
   "source": [
    "predictions = my_model.predict(data)\n",
    "predictions = pd.DataFrame(predictions)\n",
    "predictions"
   ]
  }
 ],
 "metadata": {
  "kernelspec": {
   "display_name": "Python 3",
   "language": "python",
   "name": "python3"
  },
  "language_info": {
   "codemirror_mode": {
    "name": "ipython",
    "version": 3
   },
   "file_extension": ".py",
   "mimetype": "text/x-python",
   "name": "python",
   "nbconvert_exporter": "python",
   "pygments_lexer": "ipython3",
   "version": "3.8.8"
  }
 },
 "nbformat": 4,
 "nbformat_minor": 5
}
